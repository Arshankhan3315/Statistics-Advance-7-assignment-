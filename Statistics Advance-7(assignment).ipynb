{
 "cells": [
  {
   "cell_type": "markdown",
   "id": "dfc749db-ff98-4266-99e3-817b87fa3b05",
   "metadata": {},
   "source": [
    "# Statistics Advance-7 Assignment"
   ]
  },
  {
   "cell_type": "markdown",
   "id": "9da49bc1-633e-4507-85a3-207c645a5cbd",
   "metadata": {},
   "source": [
    "# Q1. Write a Python function that takes in two arrays of data and calculates the F-value for a variance ratio test. The function should return the F-value and the corresponding p-value for the test."
   ]
  },
  {
   "cell_type": "markdown",
   "id": "1dab653f-eac7-41e3-8365-cdb9fe4151e3",
   "metadata": {},
   "source": [
    "# Answer-1-"
   ]
  },
  {
   "cell_type": "code",
   "execution_count": 6,
   "id": "b4af438e-6fbf-4681-9736-11a489970b3d",
   "metadata": {},
   "outputs": [],
   "source": [
    "import scipy.stats as stats\n",
    "import numpy as np"
   ]
  },
  {
   "cell_type": "code",
   "execution_count": 7,
   "id": "13d52035-7caa-4d96-b716-a982a59d1974",
   "metadata": {},
   "outputs": [],
   "source": [
    "def variance_ratio_test(data1, data2):\n",
    "    var1 = np.var(data1, ddof=1)  \n",
    "    var2 = np.var(data2, ddof=1)\n",
    "\n",
    "    if var1 < var2:\n",
    "        var1, var2 = var2, var1\n",
    "        data1, data2 = data2, data1\n",
    "\n",
    "    F = var1 / var2\n",
    "\n",
    "    df1 = len(data1) - 1\n",
    "    df2 = len(data2) - 1\n",
    "\n",
    "    p_value = 1 - stats.f.cdf(F, df1, df2)\n",
    "\n",
    "    return F, p_value"
   ]
  },
  {
   "cell_type": "code",
   "execution_count": 8,
   "id": "886fa36e-a8d5-488d-8fbe-c41a8e901745",
   "metadata": {},
   "outputs": [],
   "source": [
    "data1 = [3, 5, 7, 8, 9]\n",
    "data2 = [4, 6, 7, 7, 8]"
   ]
  },
  {
   "cell_type": "code",
   "execution_count": 9,
   "id": "109b3b9e-659d-448d-b7fd-685c5ab027cb",
   "metadata": {},
   "outputs": [],
   "source": [
    "F, p_value = variance_ratio_test(data1, data2)"
   ]
  },
  {
   "cell_type": "code",
   "execution_count": 10,
   "id": "68542aa1-917b-4927-86d9-531e2d453b68",
   "metadata": {},
   "outputs": [
    {
     "name": "stdout",
     "output_type": "stream",
     "text": [
      "F-value: 2.5217391304347827\n",
      "p-value: 0.1960951450866607\n"
     ]
    }
   ],
   "source": [
    "print(f'F-value: {F}')\n",
    "print(f'p-value: {p_value}')"
   ]
  },
  {
   "cell_type": "markdown",
   "id": "b75f24a6-0387-4526-8655-455e77b28da7",
   "metadata": {},
   "source": [
    "# Q2. Given a significance level of 0.05 and the degrees of freedom for the numerator and denominator of an F-distribution, write a Python function that returns the critical F-value for a two-tailed test."
   ]
  },
  {
   "cell_type": "markdown",
   "id": "437ee012-e9b7-4a29-9173-6896d845a86f",
   "metadata": {},
   "source": [
    "# Answer-2-"
   ]
  },
  {
   "cell_type": "code",
   "execution_count": 11,
   "id": "39580312-fef7-473f-94bf-6d13d137718f",
   "metadata": {},
   "outputs": [],
   "source": [
    "def critical_f_value(alpha, dfn, dfd):\n",
    "    f_critical = stats.f.ppf(1 - alpha / 2, dfn, dfd)\n",
    "    return f_critical"
   ]
  },
  {
   "cell_type": "code",
   "execution_count": 12,
   "id": "2b7c2585-8f24-4e02-a9fa-f91c64d197e2",
   "metadata": {},
   "outputs": [],
   "source": [
    "alpha = 0.05\n",
    "dfn = 3  \n",
    "dfd = 20  "
   ]
  },
  {
   "cell_type": "code",
   "execution_count": 13,
   "id": "0f84af16-a72a-42a7-8d09-746cad15486c",
   "metadata": {},
   "outputs": [
    {
     "name": "stdout",
     "output_type": "stream",
     "text": [
      "Critical F-value: 3.8586986662732143\n"
     ]
    }
   ],
   "source": [
    "f_critical = critical_f_value(alpha, dfn, dfd)\n",
    "print(f'Critical F-value: {f_critical}')"
   ]
  },
  {
   "cell_type": "markdown",
   "id": "c6661f64-073d-46cd-bad2-dd32dbd4c4be",
   "metadata": {},
   "source": [
    "# Q3. Write a Python program that generates random samples from two normal distributions with known variances and uses an F-test to determine if the variances are equal. The program should output the F- value, degrees of freedom, and p-value for the test."
   ]
  },
  {
   "cell_type": "markdown",
   "id": "44b75d1a-4098-4630-af5a-68314a22e671",
   "metadata": {},
   "source": [
    "# Answer-3-"
   ]
  },
  {
   "cell_type": "code",
   "execution_count": 14,
   "id": "265c1736-1db6-4b07-8404-cc50fd71be62",
   "metadata": {},
   "outputs": [],
   "source": [
    "np.random.seed(0)\n",
    "sample_size = 50\n",
    "variance1 = 4  \n",
    "variance2 = 9  "
   ]
  },
  {
   "cell_type": "code",
   "execution_count": 15,
   "id": "85403c92-03c5-4ca7-8712-528f77af0971",
   "metadata": {},
   "outputs": [],
   "source": [
    "data1 = np.random.normal(0, np.sqrt(variance1), sample_size)\n",
    "data2 = np.random.normal(0, np.sqrt(variance2), sample_size)"
   ]
  },
  {
   "cell_type": "code",
   "execution_count": 16,
   "id": "d0be43bc-e141-4609-a663-9b72e19f130c",
   "metadata": {},
   "outputs": [],
   "source": [
    "F_statistic = np.var(data1, ddof=1) / np.var(data2, ddof=1)\n",
    "dfn = sample_size - 1 \n",
    "dfd = sample_size - 1 "
   ]
  },
  {
   "cell_type": "code",
   "execution_count": 17,
   "id": "a7d325ba-3bd0-40e3-9aae-b52f1cef2648",
   "metadata": {},
   "outputs": [],
   "source": [
    "p_value = 1 - stats.f.cdf(F_statistic, dfn, dfd)"
   ]
  },
  {
   "cell_type": "code",
   "execution_count": 18,
   "id": "8a7775dc-82e8-4068-8116-8143aab30c8e",
   "metadata": {},
   "outputs": [
    {
     "name": "stdout",
     "output_type": "stream",
     "text": [
      "F-value: 0.7488902047583992\n",
      "Degrees of freedom (numerator): 49\n",
      "Degrees of freedom (denominator): 49\n",
      "p-value: 0.8425956721684219\n"
     ]
    }
   ],
   "source": [
    "print(f'F-value: {F_statistic}')\n",
    "print(f'Degrees of freedom (numerator): {dfn}')\n",
    "print(f'Degrees of freedom (denominator): {dfd}')\n",
    "print(f'p-value: {p_value}')"
   ]
  },
  {
   "cell_type": "markdown",
   "id": "fd548054-95f7-47e5-bfa3-177cba02e503",
   "metadata": {},
   "source": [
    "# Q4.The variances of two populations are known to be 10 and 15. A sample of 12 observations is taken from each population. Conduct an F-test at the 5% significance level to determine if the variances are significantly different."
   ]
  },
  {
   "cell_type": "markdown",
   "id": "e6749322-59ce-41b8-82c6-671498699127",
   "metadata": {},
   "source": [
    "# Answer-4-To conduct an F-test to determine if the variances of two populations are significantly different, you can follow these steps. Given that the variances of the two populations are known to be 10 and 15, and you have a sample of 12 observations from each population, you can set up the null and alternative hypotheses for the F-test:\n",
    "\n",
    "# Null Hypothesis (H0): The variances of the two populations are equal.\n",
    "# Alternative Hypothesis (Ha): The variances of the two populations are not equal."
   ]
  },
  {
   "cell_type": "code",
   "execution_count": 19,
   "id": "33916ad6-b6b4-4e7a-89b8-34012c3fbee1",
   "metadata": {},
   "outputs": [],
   "source": [
    "variance1 = 10\n",
    "variance2 = 15\n",
    "n1 = 12\n",
    "n2 = 12\n",
    "F_statistic = variance2 / variance1\n",
    "dfn = n2 - 1\n",
    "dfd = n1 - 1\n",
    "alpha = 0.05"
   ]
  },
  {
   "cell_type": "code",
   "execution_count": 20,
   "id": "e0d65357-3567-4eaf-b6ec-0b3522a10a3b",
   "metadata": {},
   "outputs": [],
   "source": [
    "critical_f_value = stats.f.ppf(1 - alpha / 2, dfn, dfd)"
   ]
  },
  {
   "cell_type": "code",
   "execution_count": 21,
   "id": "7d03a5a9-0a60-46f2-96c1-3fff1822cf3d",
   "metadata": {},
   "outputs": [
    {
     "name": "stdout",
     "output_type": "stream",
     "text": [
      "Fail to reject the null hypothesis: The variances are not significantly different.\n"
     ]
    }
   ],
   "source": [
    "if F_statistic > critical_f_value:\n",
    "    print(\"Reject the null hypothesis: The variances are significantly different.\")\n",
    "else:\n",
    "    print(\"Fail to reject the null hypothesis: The variances are not significantly different.\")"
   ]
  },
  {
   "cell_type": "markdown",
   "id": "6a15b889-52ef-47a1-8bcd-41d735df8674",
   "metadata": {},
   "source": [
    "# Q5. A manufacturer claims that the variance of the diameter of a certain product is 0.005. A sample of 25 products is taken, and the sample variance is found to be 0.006. Conduct an F-test at the 1% significance level to determine if the claim is justified."
   ]
  },
  {
   "cell_type": "markdown",
   "id": "81f03fe7-ccd5-41ad-959f-e8fdab103c5f",
   "metadata": {},
   "source": [
    "# Answer-5-To conduct an F-test to determine if the manufacturer's claim about the variance of the product's diameter is justified, you can follow these steps. In this scenario, the null hypothesis (H0) is that the manufacturer's claim is justified, and the alternative hypothesis (Ha) is that the claim is not justified.\n",
    "\n",
    "# The null and alternative hypotheses are as follows:\n",
    "\n",
    "# Null Hypothesis (H0): The population variance of the product's diameter is 0.005 (as claimed by the manufacturer).\n",
    "# Alternative Hypothesis (Ha): The population variance of the product's diameter is not equal to 0.005."
   ]
  },
  {
   "cell_type": "code",
   "execution_count": 22,
   "id": "d948d2c8-5273-4901-91a3-0795de8530c1",
   "metadata": {},
   "outputs": [],
   "source": [
    "claimed_variance = 0.005\n",
    "sample_variance = 0.006\n",
    "n = 25\n",
    "dfn = n - 1\n",
    "dfd = 1\n",
    "alpha = 0.01"
   ]
  },
  {
   "cell_type": "code",
   "execution_count": 23,
   "id": "84c2c5c8-f0f0-4311-a3ec-143a6807aea6",
   "metadata": {},
   "outputs": [],
   "source": [
    "F_statistic = sample_variance / claimed_variance\n",
    "critical_f_value = stats.f.ppf(1 - alpha / 2, dfn, dfd)"
   ]
  },
  {
   "cell_type": "code",
   "execution_count": 24,
   "id": "c12bca98-9290-4622-811c-23687337a63d",
   "metadata": {},
   "outputs": [
    {
     "name": "stdout",
     "output_type": "stream",
     "text": [
      "Fail to reject the null hypothesis: The manufacturer's claim is justified.\n"
     ]
    }
   ],
   "source": [
    "if F_statistic > critical_f_value or F_statistic < 1 / critical_f_value:\n",
    "    print(\"Reject the null hypothesis: The manufacturer's claim is not justified.\")\n",
    "else:\n",
    "    print(\"Fail to reject the null hypothesis: The manufacturer's claim is justified.\")"
   ]
  },
  {
   "cell_type": "markdown",
   "id": "2483abcd-f54d-4552-b1f3-f5f894671a49",
   "metadata": {},
   "source": [
    "# Q6. Write a Python function that takes in the degrees of freedom for the numerator and denominator of an F-distribution and calculates the mean and variance of the distribution. The function should return the mean and variance as a tuple."
   ]
  },
  {
   "cell_type": "markdown",
   "id": "b0e659d4-9694-4dfa-8cae-1ec5b1d30bd0",
   "metadata": {},
   "source": [
    "# Answer-6-"
   ]
  },
  {
   "cell_type": "code",
   "execution_count": 25,
   "id": "6143bf86-cbd1-48d0-ba9a-50b894222bb2",
   "metadata": {},
   "outputs": [],
   "source": [
    "def f_distribution_mean_and_variance(dfn, dfd):\n",
    "    mean = dfd / (dfd - 2) if dfd > 2 else None\n",
    "\n",
    "    if dfd > 4:\n",
    "        variance = (2 * (dfd**2) * (dfn + dfd - 2)) / (dfn * (dfd - 2)**2 * (dfd - 4))\n",
    "    else:\n",
    "        variance = None\n",
    "\n",
    "    return mean, variance"
   ]
  },
  {
   "cell_type": "code",
   "execution_count": 26,
   "id": "07d830a3-cf79-4754-931e-6a9acccacd93",
   "metadata": {},
   "outputs": [],
   "source": [
    "dfn = 5  \n",
    "dfd = 10  "
   ]
  },
  {
   "cell_type": "code",
   "execution_count": 27,
   "id": "122ce7a2-436e-4b03-9730-c81c94df4dfe",
   "metadata": {},
   "outputs": [
    {
     "name": "stdout",
     "output_type": "stream",
     "text": [
      "Mean: 1.25\n",
      "Variance: 1.3541666666666667\n"
     ]
    }
   ],
   "source": [
    "mean, variance = f_distribution_mean_and_variance(dfn, dfd)\n",
    "print(f\"Mean: {mean}\")\n",
    "print(f\"Variance: {variance}\")"
   ]
  },
  {
   "cell_type": "markdown",
   "id": "9b4f242e-d987-40b5-8d22-1c2b9375e2d5",
   "metadata": {},
   "source": [
    "# Q7. A random sample of 10 measurements is taken from a normal population with unknown variance. The sample variance is found to be 25. Another random sample of 15 measurements is taken from another normal population with unknown variance, and the sample variance is found to be 20. Conduct an F-test at the 10% significance level to determine if the variances are significantly different."
   ]
  },
  {
   "cell_type": "markdown",
   "id": "dda6b98e-7d9e-40e1-8700-4cb348d97db5",
   "metadata": {},
   "source": [
    "# Answer-7-"
   ]
  },
  {
   "cell_type": "code",
   "execution_count": 28,
   "id": "f7601b70-c04f-4ea1-bd2c-b434dc808d4d",
   "metadata": {},
   "outputs": [],
   "source": [
    "sample_variance1 = 25\n",
    "sample_variance2 = 20\n",
    "n1 = 10\n",
    "n2 = 15\n",
    "dfn1 = n1 - 1\n",
    "dfn2 = n2 - 1\n",
    "alpha = 0.10\n",
    "F_statistic = sample_variance1 / sample_variance2\n",
    "dfd1 = dfn1\n",
    "dfd2 = dfn2"
   ]
  },
  {
   "cell_type": "code",
   "execution_count": 29,
   "id": "ce2843ff-1440-46fe-a7ee-926d547dffa1",
   "metadata": {},
   "outputs": [],
   "source": [
    "critical_f_value1 = stats.f.ppf(alpha / 2, dfn1, dfd2)\n",
    "critical_f_value2 = stats.f.ppf(1 - alpha / 2, dfn2, dfd1)"
   ]
  },
  {
   "cell_type": "code",
   "execution_count": 30,
   "id": "e62d5e2b-bff4-4744-a7b4-d2850e88a916",
   "metadata": {},
   "outputs": [
    {
     "name": "stdout",
     "output_type": "stream",
     "text": [
      "Fail to reject the null hypothesis: The variances are equal.\n"
     ]
    }
   ],
   "source": [
    "if F_statistic < critical_f_value1 or F_statistic > critical_f_value2:\n",
    "    print(\"Reject the null hypothesis: The variances are not equal.\")\n",
    "else:\n",
    "    print(\"Fail to reject the null hypothesis: The variances are equal.\")"
   ]
  },
  {
   "cell_type": "markdown",
   "id": "87ad49b6-a7ef-4dfc-bc92-2d4a26a78bfc",
   "metadata": {},
   "source": [
    "# Q8. The following data represent the waiting times in minutes at two different restaurants on a Saturday night: Restaurant A: 24, 25, 28, 23, 22, 20, 27; Restaurant B: 31, 33, 35, 30, 32, 36. Conduct an F-test at the 5% significance level to determine if the variances are significantly different."
   ]
  },
  {
   "cell_type": "markdown",
   "id": "c0abf628-a864-4bf6-9bc6-831303efc588",
   "metadata": {},
   "source": [
    "# Answer-8-"
   ]
  },
  {
   "cell_type": "code",
   "execution_count": 31,
   "id": "0b1245cb-1cd7-4694-843e-ceb77d646460",
   "metadata": {},
   "outputs": [],
   "source": [
    "waiting_times_a = [24, 25, 28, 23, 22, 20, 27]\n",
    "waiting_times_b = [31, 33, 35, 30, 32, 36]\n",
    "variance_a = sum((x - sum(waiting_times_a) / len(waiting_times_a))**2 for x in waiting_times_a) / (len(waiting_times_a) - 1)\n",
    "variance_b = sum((x - sum(waiting_times_b) / len(waiting_times_b))**2 for x in waiting_times_b) / (len(waiting_times_b) - 1)\n",
    "n_a = len(waiting_times_a)\n",
    "n_b = len(waiting_times_b)\n",
    "dfn_a = n_a - 1\n",
    "dfn_b = n_b - 1\n",
    "alpha = 0.05"
   ]
  },
  {
   "cell_type": "code",
   "execution_count": 32,
   "id": "b10e7357-d506-415f-95ea-8d092c76774c",
   "metadata": {},
   "outputs": [],
   "source": [
    "F_statistic = variance_a / variance_b\n",
    "dfd_a = dfn_a\n",
    "dfd_b = dfn_b"
   ]
  },
  {
   "cell_type": "code",
   "execution_count": 34,
   "id": "236f0ebc-804d-4b91-9598-aae518a26315",
   "metadata": {},
   "outputs": [],
   "source": [
    "critical_f_value1 = stats.f.ppf(alpha / 2, dfn_a, dfd_b)\n",
    "critical_f_value2 = stats.f.ppf(1 - alpha / 2, dfn_b, dfd_a)"
   ]
  },
  {
   "cell_type": "code",
   "execution_count": 35,
   "id": "f0e2d1f3-5b5b-478b-9a8a-aef26397e552",
   "metadata": {},
   "outputs": [
    {
     "name": "stdout",
     "output_type": "stream",
     "text": [
      "Fail to reject the null hypothesis: The variances are equal.\n"
     ]
    }
   ],
   "source": [
    "if F_statistic < critical_f_value1 or F_statistic > critical_f_value2:\n",
    "    print(\"Reject the null hypothesis: The variances are not equal.\")\n",
    "else:\n",
    "    print(\"Fail to reject the null hypothesis: The variances are equal.\")"
   ]
  },
  {
   "cell_type": "markdown",
   "id": "6e052b9d-2fcf-4367-a561-fc53aca496d8",
   "metadata": {},
   "source": [
    "# Q9. The following data represent the test scores of two groups of students: Group A: 80, 85, 90, 92, 87, 83; Group B: 75, 78, 82, 79, 81, 84. Conduct an F-test at the 1% significance level to determine if the variances are significantly different."
   ]
  },
  {
   "cell_type": "markdown",
   "id": "fcdfb5e2-40c5-4f5d-8744-aae352dda77e",
   "metadata": {},
   "source": [
    "# Answer-9-"
   ]
  },
  {
   "cell_type": "code",
   "execution_count": 36,
   "id": "14375f8f-40e6-451e-964f-adc23f25f21c",
   "metadata": {},
   "outputs": [],
   "source": [
    "scores_group_a = [80, 85, 90, 92, 87, 83]\n",
    "scores_group_b = [75, 78, 82, 79, 81, 84]\n",
    "variance_group_a = sum((x - sum(scores_group_a) / len(scores_group_a))**2 for x in scores_group_a) / (len(scores_group_a) - 1)\n",
    "variance_group_b = sum((x - sum(scores_group_b) / len(scores_group_b))**2 for x in scores_group_b) / (len(scores_group_b) - 1)\n",
    "n_group_a = len(scores_group_a)\n",
    "n_group_b = len(scores_group_b)\n",
    "dfn_group_a = n_group_a - 1\n",
    "dfn_group_b = n_group_b - 1\n",
    "alpha = 0.01\n",
    "F_statistic = variance_group_a / variance_group_b\n",
    "dfd_group_a = dfn_group_a\n",
    "dfd_group_b = dfn_group_b"
   ]
  },
  {
   "cell_type": "code",
   "execution_count": 37,
   "id": "0a0ead84-4d37-4ded-87c1-61800109931a",
   "metadata": {},
   "outputs": [],
   "source": [
    "critical_f_value1 = stats.f.ppf(alpha / 2, dfn_group_a, dfd_group_b)\n",
    "critical_f_value2 = stats.f.ppf(1 - alpha / 2, dfn_group_b, dfd_group_a)"
   ]
  },
  {
   "cell_type": "code",
   "execution_count": 38,
   "id": "ba858ae3-df5d-4529-8d82-4885e6c27afa",
   "metadata": {},
   "outputs": [
    {
     "name": "stdout",
     "output_type": "stream",
     "text": [
      "Fail to reject the null hypothesis: The variances are equal.\n"
     ]
    }
   ],
   "source": [
    "if F_statistic < critical_f_value1 or F_statistic > critical_f_value2:\n",
    "    print(\"Reject the null hypothesis: The variances are not equal.\")\n",
    "else:\n",
    "    print(\"Fail to reject the null hypothesis: The variances are equal.\")"
   ]
  },
  {
   "cell_type": "markdown",
   "id": "34de13d8-407b-463a-a810-f67f3ea949bd",
   "metadata": {},
   "source": [
    "# Assignment Completed"
   ]
  }
 ],
 "metadata": {
  "kernelspec": {
   "display_name": "Python 3 (ipykernel)",
   "language": "python",
   "name": "python3"
  },
  "language_info": {
   "codemirror_mode": {
    "name": "ipython",
    "version": 3
   },
   "file_extension": ".py",
   "mimetype": "text/x-python",
   "name": "python",
   "nbconvert_exporter": "python",
   "pygments_lexer": "ipython3",
   "version": "3.10.8"
  }
 },
 "nbformat": 4,
 "nbformat_minor": 5
}
